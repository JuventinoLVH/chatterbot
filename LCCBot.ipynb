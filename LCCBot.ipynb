{
 "cells": [
  {
   "cell_type": "code",
   "execution_count": 1,
   "metadata": {},
   "outputs": [],
   "source": [
    "from chatterbot import ChatBot\n",
    "from chatterbot.trainers import ListTrainer\n",
    "import os"
   ]
  },
  {

    
        
          
    

        
  
   "cell_type": "code",
   "execution_count": 31,
   "metadata": {},
   "outputs": [],
   "source": [
    "#Creamos un bot llamado LCCBot\n",
    "chatbot = ChatBot(\n",
    "    'Hola Mundo',\n",
    "    logic_adapters=[{\n",
    "        'default_response': 'Lo siento, no entendi lo que acabas de decir'\n",
    "    }],\n",
    "    read_only = True\n",
    "\n",
    "    )"
   ]
  },
  {
   "attachments": {},
   "cell_type": "markdown",
   "metadata": {},
   "source": [
    "Entrenamiento para saludos o conversacion simple"
   ]
  },
  {
   "cell_type": "code",
   "execution_count": null,
   "metadata": {},
   "outputs": [],
   "source": [
    "folder = 'training_data'"
   ]
  },
  {
   "cell_type": "code",
   "execution_count": null,
   "metadata": {},
   "outputs": [],
   "source": [
    "for filename in os.listdir(folder):\n",
    "    print('\\n Chatbot training with '+os.path.join(folder, filename)+' file')\n",
    "    training_data = open(os.path.join(folder, filename)).read().splitlines()\n",
    "    trainer = ListTrainer(chatbot) # bot training\n",
    "    trainer.train(training_data)"
   ]
  },
  {
   "cell_type": "code",
   "execution_count": 32,
   "metadata": {},
   "outputs": [
    {
     "name": "stdout",
     "output_type": "stream",
     "text": [
      "List Trainer: [####################] 100%\n"
     ]
    }
   ],
   "source": [
    "print('Bienvenido al Chatbot!')\n",
    "response = \"\"\n",
    "while True:\n",
    "    request = input('Tu:')\n",
    "    if request == \"Salir\" or request == \"salir\":\n",
    "        print(\"Bot: Salir\")\n",
    "        break\n",
    "    response = chatbot.get_response(request)\n",
    "    print(f'Bot: {response}')"
   ]
  }
 ],
 "metadata": {
  "kernelspec": {
   "display_name": "chatbot",
   "language": "python",
   "name": "python3"
  },

    
        
          
    

        
  
  
  "language_info": {
   "codemirror_mode": {
    "name": "ipython",
    "version": 3
   },
   "file_extension": ".py",
   "mimetype": "text/x-python",
   "name": "python",
   "nbconvert_exporter": "python",
   "pygments_lexer": "ipython3",
   "version": "3.7.15"
  },
  "orig_nbformat": 4,
  "vscode": {
   "interpreter": {
    "hash": "bf6b9bfa34dae283530fdfc4d5b1488cb2709028b063d23e44e8640d0be62240"
   }
  }
 },

    
          
            
    

          
    
    
  
 "nbformat": 4,
 "nbformat_minor": 2
}