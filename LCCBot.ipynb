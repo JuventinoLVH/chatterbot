{
 "cells": [
  {
   "cell_type": "code",
   "execution_count": 27,
   "metadata": {},
   "outputs": [],
   "source": [
    "from chatterbot import ChatBot\n",
    "from chatterbot.trainers import ListTrainer"
   ]
  },
  {
   "cell_type": "code",
   "execution_count": 31,
   "metadata": {},
   "outputs": [],
   "source": [
    "#Creamos un bot llamado LCCBot\n",
    "chatbot2 = ChatBot('LCCBot')"
   ]
  },
  {
   "cell_type": "code",
   "execution_count": 32,
   "metadata": {},
   "outputs": [
    {
     "name": "stdout",
     "output_type": "stream",
     "text": [
      "List Trainer: [####################] 100%\n"
     ]
    }
   ],
   "source": [
    "trainer2 = ListTrainer(chatbot2)\n",
    "\n",
    "trainer2.train([\n",
    "    #PREGUNTA\n",
    "    \"¿Cuando entramos a clase?.\",\n",
    "    #RESPUESTA \n",
    "    \"Entramos el 6 de enero\",\n",
    "    # LA RSPUESTA DE ARRIBA DEBE DE TENER ALGUNA SIMILITUD CON LA PREGUNTA DE ABAJO Y ASI SUCESIVAMENTE\n",
    "])"
   ]
  },
  {
   "cell_type": "code",
   "execution_count": 34,
   "metadata": {},
   "outputs": [
    {
     "name": "stdout",
     "output_type": "stream",
     "text": [
      "Entramos el 6 de enero\n"
     ]
    }
   ],
   "source": [
    "#Obtenemos una respuesta a partir de una palabra clave o una frase\n",
    "response = chatbot2.get_response('clases?')\n",
    "\n",
    "print(response)"
   ]
  }
 ],
 "metadata": {
  "kernelspec": {
   "display_name": "Python 3.6.2 64-bit",
   "language": "python",
   "name": "python3"
  },
  "language_info": {
   "codemirror_mode": {
    "name": "ipython",
    "version": 3
   },
   "file_extension": ".py",
   "mimetype": "text/x-python",
   "name": "python",
   "nbconvert_exporter": "python",
   "pygments_lexer": "ipython3",
   "version": "3.6.2"
  },
  "orig_nbformat": 4,
  "vscode": {
   "interpreter": {
    "hash": "9c43f423247bd0c67f6de4973e7e9f0055dbd5fe8e4d93d86b635664657df2b2"
   }
  }
 },
 "nbformat": 4,
 "nbformat_minor": 2
}
