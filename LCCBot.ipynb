{
 "cells": [
  {
   "cell_type": "code",
   "execution_count": 27,
   "metadata": {},
   "outputs": [],
   "source": [
    "from chatterbot import ChatBot\n",
    "from chatterbot.trainers import ListTrainer"
   ]
  },
  {
   "cell_type": "code",
   "execution_count": 31,
   "metadata": {},
   "outputs": [],
   "source": [
    "#Creamos un bot llamado LCCBot\n",
    "chatbot2 = ChatBot('LCCBot')"
   ]
  },
  {
   "cell_type": "code",
   "execution_count": 32,
   "metadata": {},
   "outputs": [
    {
     "name": "stdout",
     "output_type": "stream",
     "text": [
      "List Trainer: [####################] 100%\n"
     ]
    }
   ],
   "source": [
    "trainer2 = ListTrainer(chatbot2)\n",
    "\n",
    "trainer2.train([\n",
    "    #PREGUNTA\n",
    "    \"¿Cuando entramos a clase?.\",\n",
    "    #RESPUESTA \n",
    "    \"Entramos el 6 de enero\",\n",
    "    # LA RSPUESTA DE ARRIBA DEBE DE TENER ALGUNA SIMILITUD CON LA PREGUNTA DE ABAJO Y ASI SUCESIVAMENTE\n",
    "])"
   ]
  },
  {
   "cell_type": "code",
   "execution_count": 34,
   "metadata": {},
   "outputs": [
    {
     "name": "stdout",
     "output_type": "stream",
     "text": [
      "Entramos el 6 de enero\n"
     ]
    }
   ],
   "source": [
    "#Obtenemos una respuesta a partir de una palabra clave o una frase\n",
    "response = chatbot2.get_response('clases?')\n",
    "\n",
    "print(response)"
   ]
  }
 ],
 "metadata": {
  "kernelspec": {
   "display_name": "Python 3.7.15 ('chatterbot_example')",
   "language": "python",
   "name": "python3"
  },
  "language_info": {
   "codemirror_mode": {
    "name": "ipython",
    "version": 3
   },
   "file_extension": ".py",
   "mimetype": "text/x-python",
   "name": "python",
   "nbconvert_exporter": "python",
   "pygments_lexer": "ipython3",
   "version": "3.7.15"
  },
  "orig_nbformat": 4,
  "vscode": {
   "interpreter": {
    "hash": "693b4c30aa9eff9f8d0da6dc313081d2b97deda0eb9065d9b9eb4a06793e7f36"
   }
  }
 },
 "nbformat": 4,
 "nbformat_minor": 2
}
